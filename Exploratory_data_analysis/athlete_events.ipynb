{
 "cells": [
  {
   "cell_type": "code",
   "execution_count": 1,
   "metadata": {},
   "outputs": [],
   "source": [
    "import pandas as pd"
   ]
  },
  {
   "cell_type": "code",
   "execution_count": 2,
   "metadata": {},
   "outputs": [
    {
     "data": {
      "text/html": [
       "<div>\n",
       "<style scoped>\n",
       "    .dataframe tbody tr th:only-of-type {\n",
       "        vertical-align: middle;\n",
       "    }\n",
       "\n",
       "    .dataframe tbody tr th {\n",
       "        vertical-align: top;\n",
       "    }\n",
       "\n",
       "    .dataframe thead th {\n",
       "        text-align: right;\n",
       "    }\n",
       "</style>\n",
       "<table border=\"1\" class=\"dataframe\">\n",
       "  <thead>\n",
       "    <tr style=\"text-align: right;\">\n",
       "      <th></th>\n",
       "      <th>0</th>\n",
       "      <th>1</th>\n",
       "      <th>2</th>\n",
       "      <th>3</th>\n",
       "      <th>4</th>\n",
       "    </tr>\n",
       "  </thead>\n",
       "  <tbody>\n",
       "    <tr>\n",
       "      <th>ID</th>\n",
       "      <td>1</td>\n",
       "      <td>2</td>\n",
       "      <td>3</td>\n",
       "      <td>4</td>\n",
       "      <td>5</td>\n",
       "    </tr>\n",
       "    <tr>\n",
       "      <th>Name</th>\n",
       "      <td>A Dijiang</td>\n",
       "      <td>A Lamusi</td>\n",
       "      <td>Gunnar Nielsen Aaby</td>\n",
       "      <td>Edgar Lindenau Aabye</td>\n",
       "      <td>Christine Jacoba Aaftink</td>\n",
       "    </tr>\n",
       "    <tr>\n",
       "      <th>Sex</th>\n",
       "      <td>M</td>\n",
       "      <td>M</td>\n",
       "      <td>M</td>\n",
       "      <td>M</td>\n",
       "      <td>F</td>\n",
       "    </tr>\n",
       "    <tr>\n",
       "      <th>Age</th>\n",
       "      <td>24</td>\n",
       "      <td>23</td>\n",
       "      <td>24</td>\n",
       "      <td>34</td>\n",
       "      <td>21</td>\n",
       "    </tr>\n",
       "    <tr>\n",
       "      <th>Height</th>\n",
       "      <td>180</td>\n",
       "      <td>170</td>\n",
       "      <td>NaN</td>\n",
       "      <td>NaN</td>\n",
       "      <td>185</td>\n",
       "    </tr>\n",
       "    <tr>\n",
       "      <th>Weight</th>\n",
       "      <td>80</td>\n",
       "      <td>60</td>\n",
       "      <td>NaN</td>\n",
       "      <td>NaN</td>\n",
       "      <td>82</td>\n",
       "    </tr>\n",
       "    <tr>\n",
       "      <th>Team</th>\n",
       "      <td>China</td>\n",
       "      <td>China</td>\n",
       "      <td>Denmark</td>\n",
       "      <td>Denmark/Sweden</td>\n",
       "      <td>Netherlands</td>\n",
       "    </tr>\n",
       "    <tr>\n",
       "      <th>NOC</th>\n",
       "      <td>CHN</td>\n",
       "      <td>CHN</td>\n",
       "      <td>DEN</td>\n",
       "      <td>DEN</td>\n",
       "      <td>NED</td>\n",
       "    </tr>\n",
       "    <tr>\n",
       "      <th>Games</th>\n",
       "      <td>1992 Summer</td>\n",
       "      <td>2012 Summer</td>\n",
       "      <td>1920 Summer</td>\n",
       "      <td>1900 Summer</td>\n",
       "      <td>1988 Winter</td>\n",
       "    </tr>\n",
       "    <tr>\n",
       "      <th>Year</th>\n",
       "      <td>1992</td>\n",
       "      <td>2012</td>\n",
       "      <td>1920</td>\n",
       "      <td>1900</td>\n",
       "      <td>1988</td>\n",
       "    </tr>\n",
       "    <tr>\n",
       "      <th>Season</th>\n",
       "      <td>Summer</td>\n",
       "      <td>Summer</td>\n",
       "      <td>Summer</td>\n",
       "      <td>Summer</td>\n",
       "      <td>Winter</td>\n",
       "    </tr>\n",
       "    <tr>\n",
       "      <th>City</th>\n",
       "      <td>Barcelona</td>\n",
       "      <td>London</td>\n",
       "      <td>Antwerpen</td>\n",
       "      <td>Paris</td>\n",
       "      <td>Calgary</td>\n",
       "    </tr>\n",
       "    <tr>\n",
       "      <th>Sport</th>\n",
       "      <td>Basketball</td>\n",
       "      <td>Judo</td>\n",
       "      <td>Football</td>\n",
       "      <td>Tug-Of-War</td>\n",
       "      <td>Speed Skating</td>\n",
       "    </tr>\n",
       "    <tr>\n",
       "      <th>Event</th>\n",
       "      <td>Basketball Men's Basketball</td>\n",
       "      <td>Judo Men's Extra-Lightweight</td>\n",
       "      <td>Football Men's Football</td>\n",
       "      <td>Tug-Of-War Men's Tug-Of-War</td>\n",
       "      <td>Speed Skating Women's 500 metres</td>\n",
       "    </tr>\n",
       "    <tr>\n",
       "      <th>Medal</th>\n",
       "      <td>NaN</td>\n",
       "      <td>NaN</td>\n",
       "      <td>NaN</td>\n",
       "      <td>Gold</td>\n",
       "      <td>NaN</td>\n",
       "    </tr>\n",
       "  </tbody>\n",
       "</table>\n",
       "</div>"
      ],
      "text/plain": [
       "                                  0                             1  \\\n",
       "ID                                1                             2   \n",
       "Name                      A Dijiang                      A Lamusi   \n",
       "Sex                               M                             M   \n",
       "Age                              24                            23   \n",
       "Height                          180                           170   \n",
       "Weight                           80                            60   \n",
       "Team                          China                         China   \n",
       "NOC                             CHN                           CHN   \n",
       "Games                   1992 Summer                   2012 Summer   \n",
       "Year                           1992                          2012   \n",
       "Season                       Summer                        Summer   \n",
       "City                      Barcelona                        London   \n",
       "Sport                    Basketball                          Judo   \n",
       "Event   Basketball Men's Basketball  Judo Men's Extra-Lightweight   \n",
       "Medal                           NaN                           NaN   \n",
       "\n",
       "                              2                            3  \\\n",
       "ID                            3                            4   \n",
       "Name        Gunnar Nielsen Aaby         Edgar Lindenau Aabye   \n",
       "Sex                           M                            M   \n",
       "Age                          24                           34   \n",
       "Height                      NaN                          NaN   \n",
       "Weight                      NaN                          NaN   \n",
       "Team                    Denmark               Denmark/Sweden   \n",
       "NOC                         DEN                          DEN   \n",
       "Games               1920 Summer                  1900 Summer   \n",
       "Year                       1920                         1900   \n",
       "Season                   Summer                       Summer   \n",
       "City                  Antwerpen                        Paris   \n",
       "Sport                  Football                   Tug-Of-War   \n",
       "Event   Football Men's Football  Tug-Of-War Men's Tug-Of-War   \n",
       "Medal                       NaN                         Gold   \n",
       "\n",
       "                                       4  \n",
       "ID                                     5  \n",
       "Name            Christine Jacoba Aaftink  \n",
       "Sex                                    F  \n",
       "Age                                   21  \n",
       "Height                               185  \n",
       "Weight                                82  \n",
       "Team                         Netherlands  \n",
       "NOC                                  NED  \n",
       "Games                        1988 Winter  \n",
       "Year                                1988  \n",
       "Season                            Winter  \n",
       "City                             Calgary  \n",
       "Sport                      Speed Skating  \n",
       "Event   Speed Skating Women's 500 metres  \n",
       "Medal                                NaN  "
      ]
     },
     "execution_count": 2,
     "metadata": {},
     "output_type": "execute_result"
    }
   ],
   "source": [
    "data = pd.read_csv('athlete_events.csv')\n",
    "data.head().T"
   ]
  },
  {
   "cell_type": "markdown",
   "metadata": {},
   "source": [
    "1.How old were the youngest male and female participants of the 1992 Olympics?"
   ]
  },
  {
   "cell_type": "code",
   "execution_count": 3,
   "metadata": {},
   "outputs": [
    {
     "name": "stdout",
     "output_type": "stream",
     "text": [
      "11.0\n",
      "12.0\n"
     ]
    }
   ],
   "source": [
    "print(data.loc[(data['Sex'] == 'M') & (data['Year'] == 1992), 'Age'].min())\n",
    "print(data.loc[(data['Sex'] == 'F') & (data['Year'] == 1992), 'Age'].min())"
   ]
  },
  {
   "cell_type": "markdown",
   "metadata": {},
   "source": [
    " 2.What was the percentage of male basketball players among all the male participants of the 2012 Olympics? Round the answer to the first decimal."
   ]
  },
  {
   "cell_type": "code",
   "execution_count": 4,
   "metadata": {},
   "outputs": [
    {
     "name": "stdout",
     "output_type": "stream",
     "text": [
      "0.020267417311752287\n"
     ]
    }
   ],
   "source": [
    "male_basketball_2012 = data.loc[(data['Sport'] == 'Basketball') & (data['Year'] == 2012) \n",
    "                                & (data['Sex'] == 'M'), 'ID'].shape[0]\n",
    "male_2012 = data.loc[(data['Year'] == 2012) & (data['Sex'] == 'M'), 'ID'].shape[0]\n",
    "print(male_basketball_2012/male_2012)\n"
   ]
  },
  {
   "cell_type": "markdown",
   "metadata": {},
   "source": [
    "\n",
    "3.What are the mean and standard deviation of height for female tennis players who participated in the 2000 Olympics? Round the answer to the first decimal."
   ]
  },
  {
   "cell_type": "code",
   "execution_count": 5,
   "metadata": {},
   "outputs": [
    {
     "name": "stdout",
     "output_type": "stream",
     "text": [
      "171.792\n",
      "6.4586725890776675\n"
     ]
    }
   ],
   "source": [
    "female_tennis_2000 = data.loc[(data['Sport'] == 'Tennis') & (data['Year'] == 2000) & (data['Sex'] == 'F'), 'Height']\n",
    "print(female_tennis_2000.mean())\n",
    "print(female_tennis_2000.std())"
   ]
  },
  {
   "cell_type": "markdown",
   "metadata": {},
   "source": [
    "4.Find a sportsman who participated in the 2006 Olympics, with the highest weight among other participants of the same Olympics. What sport did he or she do?"
   ]
  },
  {
   "cell_type": "code",
   "execution_count": 6,
   "metadata": {},
   "outputs": [
    {
     "data": {
      "text/html": [
       "<div>\n",
       "<style scoped>\n",
       "    .dataframe tbody tr th:only-of-type {\n",
       "        vertical-align: middle;\n",
       "    }\n",
       "\n",
       "    .dataframe tbody tr th {\n",
       "        vertical-align: top;\n",
       "    }\n",
       "\n",
       "    .dataframe thead th {\n",
       "        text-align: right;\n",
       "    }\n",
       "</style>\n",
       "<table border=\"1\" class=\"dataframe\">\n",
       "  <thead>\n",
       "    <tr style=\"text-align: right;\">\n",
       "      <th></th>\n",
       "      <th>Sport</th>\n",
       "      <th>Weight</th>\n",
       "      <th>Year</th>\n",
       "    </tr>\n",
       "  </thead>\n",
       "  <tbody>\n",
       "    <tr>\n",
       "      <th>8102</th>\n",
       "      <td>Skeleton</td>\n",
       "      <td>127.0</td>\n",
       "      <td>2006</td>\n",
       "    </tr>\n",
       "  </tbody>\n",
       "</table>\n",
       "</div>"
      ],
      "text/plain": [
       "         Sport  Weight  Year\n",
       "8102  Skeleton   127.0  2006"
      ]
     },
     "execution_count": 6,
     "metadata": {},
     "output_type": "execute_result"
    }
   ],
   "source": [
    "max_weight_2006 = data.loc[(data['Year'] == 2006), 'Weight'].max()\n",
    "sport = data.loc[(data['Weight'] == max_weight_2006) & (data['Year'] == 2006), ['Sport', 'Weight', 'Year']]\n",
    "sport"
   ]
  },
  {
   "cell_type": "markdown",
   "metadata": {},
   "source": [
    "5.How many times did John Aalberg participate in the Olympics held in different years?"
   ]
  },
  {
   "cell_type": "code",
   "execution_count": 7,
   "metadata": {},
   "outputs": [
    {
     "data": {
      "text/plain": [
       "2"
      ]
     },
     "execution_count": 7,
     "metadata": {},
     "output_type": "execute_result"
    }
   ],
   "source": [
    "Aalberg = data.loc[(data['Name'].isin(['John Aalberg'])), 'Year']\n",
    "Aalberg.nunique()"
   ]
  },
  {
   "cell_type": "markdown",
   "metadata": {},
   "source": [
    "6.How many gold medals in tennis did sportspeople from the Switzerland team win at the 2008 Olympics? Count every medal from every sportsperson."
   ]
  },
  {
   "cell_type": "code",
   "execution_count": 8,
   "metadata": {},
   "outputs": [
    {
     "data": {
      "text/plain": [
       "3"
      ]
     },
     "execution_count": 8,
     "metadata": {},
     "output_type": "execute_result"
    }
   ],
   "source": [
    "gold_medal_2008_Sw = data.loc[(data['Team'] == 'Switzerland') & (data['Year'] == 2008) & (data['Medal'] == 'Gold'), ['ID', 'Name']]\n",
    "gold_medal_2008_Sw.shape[0]"
   ]
  },
  {
   "cell_type": "markdown",
   "metadata": {},
   "source": [
    "7.Is it true that Spain won fewer medals than Italy at the 2016 Olympics? Do not consider NaN values in Medal column."
   ]
  },
  {
   "cell_type": "code",
   "execution_count": 9,
   "metadata": {},
   "outputs": [
    {
     "name": "stdout",
     "output_type": "stream",
     "text": [
      "Spain 43 and Italy 70\n"
     ]
    }
   ],
   "source": [
    "medal_2016_Spain = data.loc[(data['Team'] == 'Spain') & (data['Year'] == 2016) & (pd.notna(data['Medal'])), 'ID']\n",
    "medal_2016_Italy = data.loc[(data['Team'] == 'Italy') & (data['Year'] == 2016) & (pd.notna(data['Medal'])), 'ID']\n",
    "print('Spain {0} and Italy {1}'.format(medal_2016_Spain.shape[0], medal_2016_Italy.shape[0]))"
   ]
  },
  {
   "cell_type": "markdown",
   "metadata": {},
   "source": [
    "8.What age category did the fewest and the most participants of the 2008 Olympics belong to?"
   ]
  },
  {
   "cell_type": "code",
   "execution_count": 10,
   "metadata": {},
   "outputs": [
    {
     "name": "stdout",
     "output_type": "stream",
     "text": [
      "(15, 25]    7275\n",
      "(25, 35]    5504\n",
      "(35, 45]     623\n",
      "(45, 55]      91\n",
      "(55, 65]      11\n",
      "Name: Age, dtype: int64\n"
     ]
    }
   ],
   "source": [
    "bins=[15,25,35,45,55,65]\n",
    "data_2008_all = data[data['Year'] == 2008]\n",
    "print(pd.cut(data_2008_all['Age'], bins).value_counts())"
   ]
  },
  {
   "cell_type": "markdown",
   "metadata": {},
   "source": [
    "9.Is it true that there were Summer Olympics held in Atlanta? Is it true that there were Winter Olympics held in Squaw Valley?"
   ]
  },
  {
   "cell_type": "code",
   "execution_count": 11,
   "metadata": {},
   "outputs": [
    {
     "data": {
      "text/html": [
       "<div>\n",
       "<style scoped>\n",
       "    .dataframe tbody tr th:only-of-type {\n",
       "        vertical-align: middle;\n",
       "    }\n",
       "\n",
       "    .dataframe tbody tr th {\n",
       "        vertical-align: top;\n",
       "    }\n",
       "\n",
       "    .dataframe thead th {\n",
       "        text-align: right;\n",
       "    }\n",
       "</style>\n",
       "<table border=\"1\" class=\"dataframe\">\n",
       "  <thead>\n",
       "    <tr style=\"text-align: right;\">\n",
       "      <th></th>\n",
       "      <th>City</th>\n",
       "      <th>Season</th>\n",
       "    </tr>\n",
       "  </thead>\n",
       "  <tbody>\n",
       "    <tr>\n",
       "      <th>32</th>\n",
       "      <td>Atlanta</td>\n",
       "      <td>Summer</td>\n",
       "    </tr>\n",
       "    <tr>\n",
       "      <th>83</th>\n",
       "      <td>Squaw Valley</td>\n",
       "      <td>Winter</td>\n",
       "    </tr>\n",
       "  </tbody>\n",
       "</table>\n",
       "</div>"
      ],
      "text/plain": [
       "            City  Season\n",
       "32       Atlanta  Summer\n",
       "83  Squaw Valley  Winter"
      ]
     },
     "execution_count": 11,
     "metadata": {},
     "output_type": "execute_result"
    }
   ],
   "source": [
    "data.loc[(data['City'].isin(['Atlanta', 'Squaw Valley'])), ['City', 'Season']].drop_duplicates()"
   ]
  },
  {
   "cell_type": "markdown",
   "metadata": {},
   "source": [
    "10.What is the absolute difference between the number of unique sports at the 1986 Olympics and 2002 Olympics?"
   ]
  },
  {
   "cell_type": "code",
   "execution_count": 12,
   "metadata": {},
   "outputs": [
    {
     "data": {
      "text/plain": [
       "Year\n",
       "2002    15\n",
       "dtype: int64"
      ]
     },
     "execution_count": 12,
     "metadata": {},
     "output_type": "execute_result"
    }
   ],
   "source": [
    "array = ['1986', '2002']\n",
    "data_1986_2002 = data.loc[data['Year'].isin(array)]\n",
    "pd.crosstab(data_1986_2002['Sport'], data_1986_2002['Year']).count()"
   ]
  }
 ],
 "metadata": {
  "kernelspec": {
   "display_name": "Python 3",
   "language": "python",
   "name": "python3"
  },
  "language_info": {
   "codemirror_mode": {
    "name": "ipython",
    "version": 3
   },
   "file_extension": ".py",
   "mimetype": "text/x-python",
   "name": "python",
   "nbconvert_exporter": "python",
   "pygments_lexer": "ipython3",
   "version": "3.6.4"
  }
 },
 "nbformat": 4,
 "nbformat_minor": 2
}
